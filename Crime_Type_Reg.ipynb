{
 "cells": [
  {
   "cell_type": "code",
   "execution_count": 10,
   "metadata": {},
   "outputs": [
    {
     "data": {
      "text/html": [
       "<div>\n",
       "<style>\n",
       "    .dataframe thead tr:only-child th {\n",
       "        text-align: right;\n",
       "    }\n",
       "\n",
       "    .dataframe thead th {\n",
       "        text-align: left;\n",
       "    }\n",
       "\n",
       "    .dataframe tbody tr th {\n",
       "        vertical-align: top;\n",
       "    }\n",
       "</style>\n",
       "<table border=\"1\" class=\"dataframe\">\n",
       "  <thead>\n",
       "    <tr style=\"text-align: right;\">\n",
       "      <th></th>\n",
       "      <th>Community</th>\n",
       "      <th>Crime_Rate</th>\n",
       "      <th>Primary_Type</th>\n",
       "    </tr>\n",
       "  </thead>\n",
       "  <tbody>\n",
       "    <tr>\n",
       "      <th>2040</th>\n",
       "      <td>NaN</td>\n",
       "      <td>1.2</td>\n",
       "      <td>PUBLIC PEACE VIOLATION</td>\n",
       "    </tr>\n",
       "    <tr>\n",
       "      <th>2041</th>\n",
       "      <td>NaN</td>\n",
       "      <td>3.2</td>\n",
       "      <td>ROBBERY</td>\n",
       "    </tr>\n",
       "    <tr>\n",
       "      <th>2042</th>\n",
       "      <td>NaN</td>\n",
       "      <td>0.4</td>\n",
       "      <td>SEX OFFENSE</td>\n",
       "    </tr>\n",
       "    <tr>\n",
       "      <th>2043</th>\n",
       "      <td>NaN</td>\n",
       "      <td>44.8</td>\n",
       "      <td>THEFT</td>\n",
       "    </tr>\n",
       "    <tr>\n",
       "      <th>2044</th>\n",
       "      <td>NaN</td>\n",
       "      <td>1.0</td>\n",
       "      <td>WEAPONS VIOLATION</td>\n",
       "    </tr>\n",
       "  </tbody>\n",
       "</table>\n",
       "</div>"
      ],
      "text/plain": [
       "     Community  Crime_Rate            Primary_Type\n",
       "2040       NaN         1.2  PUBLIC PEACE VIOLATION\n",
       "2041       NaN         3.2                 ROBBERY\n",
       "2042       NaN         0.4             SEX OFFENSE\n",
       "2043       NaN        44.8                   THEFT\n",
       "2044       NaN         1.0       WEAPONS VIOLATION"
      ]
     },
     "execution_count": 10,
     "metadata": {},
     "output_type": "execute_result"
    }
   ],
   "source": [
    "import pandas as pd\n",
    "import json\n",
    "import requests\n",
    "from urllib.parse import quote\n",
    "%matplotlib inline \n",
    "\n",
    "# Get crime data \n",
    "soql = \"https://data.cityofchicago.org/resource/6zsd-86xi.json?$query=\"\n",
    "soql += quote(\"SELECT community_area AS Community, count(*)/5 AS Crime_Rate, primary_type AS Primary_Type \")\n",
    "soql += quote(\"WHERE 2007 < year AND year < 2013 \")\n",
    "soql += quote(\"GROUP BY Community, Primary_Type LIMIT 10000\")\n",
    "\n",
    "resp = requests.get(soql).json()\n",
    "\n",
    "crime_type = pd.DataFrame(resp)\n",
    "\n",
    "# Get rid of the redundant decimal places \n",
    "crime_type.Crime_Rate = crime_type.Crime_Rate.astype(float)\n",
    "crime_type.round(1) \n",
    "\n",
    "# ATTENTION HERE: problem with NaN remains unsolved!!!!\n",
    "crime_type.isnull() \n",
    "crime_type.dropna(axis = 0, how = \"any\") \n",
    "crime_type.tail() \n",
    "\n",
    "# Get socioeconomics data \n",
    "socioeconomics = pd.read_csv(\"Census_Data_-_Selected_socioeconomic_indicators_in_Chicago__2008___2012.csv\", index_col = ['Community Area Number'])\n",
    "\n",
    "\n",
    "# Merge crime data on socioeconomics data using Communty Area Number \n",
    "crime_type.rename(columns={'Community':'Community Area Number'}, inplace = True)\n",
    "crime_type.set_index('Community Area Number')\n",
    "\n",
    "# ATTENTION HERE: merge problem unsolved!!!!\n",
    "mix_type = pd.DataFrame.merge(crime_type, socioeconomics, on = 'Community Area Number')\n",
    "mix_type \n",
    "\n"
   ]
  },
  {
   "cell_type": "code",
   "execution_count": null,
   "metadata": {
    "collapsed": true
   },
   "outputs": [],
   "source": []
  }
 ],
 "metadata": {
  "kernelspec": {
   "display_name": "Python 3",
   "language": "python",
   "name": "python3"
  },
  "language_info": {
   "codemirror_mode": {
    "name": "ipython",
    "version": 3
   },
   "file_extension": ".py",
   "mimetype": "text/x-python",
   "name": "python",
   "nbconvert_exporter": "python",
   "pygments_lexer": "ipython3",
   "version": "3.6.2"
  }
 },
 "nbformat": 4,
 "nbformat_minor": 2
}
