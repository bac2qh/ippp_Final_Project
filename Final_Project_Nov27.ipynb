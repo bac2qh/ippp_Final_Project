{
 "cells": [
  {
   "cell_type": "code",
   "execution_count": null,
   "metadata": {
    "collapsed": true
   },
   "outputs": [],
   "source": [
    "import pandas as pd\n",
    "import json\n",
    "import requests\n",
    "from urllib.parse import quote\n",
    "%matplotlib inline \n",
    "\n",
    "# Get crime data \n",
    "soql = \"https://data.cityofchicago.org/resource/6zsd-86xi.json?$query=\"\n",
    "soql += quote(\"SELECT community_area AS Community, count(*) AS Count, Count/5 AS Avg \")\n",
    "soql += quote(\"WHERE 2007 < year AND year < 2013 \")\n",
    "soql += quote(\"GROUP BY Community LIMIT 10000\")\n",
    "\n",
    "resp = requests.get(soql).json()\n",
    "\n",
    "crime = pd.DataFrame(resp)\n",
    "\n",
    "# Get rid of the redundant decimal places \n",
    "crime.Avg = crime.Avg.astype(float)\n",
    "crime.round(1) \n",
    "\n",
    "# Get socioeconomics data \n",
    "socioeconomics = pd.read_csv(\"Census_Data_-_Selected_socioeconomic_indicators_in_Chicago__2008___2012.csv\", index_col = ['Community Area Number'])\n",
    "\n",
    "# Merge crime data on socioeconomics data \n",
    "crime.rename(columns={'Community':'Community Area Number'}, inplace = True)\n",
    "crime.set_index('Community Area Number')\n",
    "\n",
    "mix = pd.DataFrame.join(crime, socioeconomics)\n",
    "mix"
   ]
  }
 ],
 "metadata": {
  "kernelspec": {
   "display_name": "Python 3",
   "language": "python",
   "name": "python3"
  },
  "language_info": {
   "codemirror_mode": {
    "name": "ipython",
    "version": 3
   },
   "file_extension": ".py",
   "mimetype": "text/x-python",
   "name": "python",
   "nbconvert_exporter": "python",
   "pygments_lexer": "ipython3",
   "version": "3.6.2"
  }
 },
 "nbformat": 4,
 "nbformat_minor": 2
}
